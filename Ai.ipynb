{
  "nbformat": 4,
  "nbformat_minor": 0,
  "metadata": {
    "colab": {
      "provenance": [],
      "authorship_tag": "ABX9TyPhWJJLP/ge7G9DrGBETeGl",
      "include_colab_link": true
    },
    "kernelspec": {
      "name": "python3",
      "display_name": "Python 3"
    },
    "language_info": {
      "name": "python"
    }
  },
  "cells": [
    {
      "cell_type": "markdown",
      "metadata": {
        "id": "view-in-github",
        "colab_type": "text"
      },
      "source": [
        "<a href=\"https://colab.research.google.com/github/Jason04-08-2005/calculator/blob/main/Ai.ipynb\" target=\"_parent\"><img src=\"https://colab.research.google.com/assets/colab-badge.svg\" alt=\"Open In Colab\"/></a>"
      ]
    },
    {
      "cell_type": "code",
      "execution_count": 1,
      "metadata": {
        "colab": {
          "base_uri": "https://localhost:8080/",
          "height": 384
        },
        "id": "jexrB_VeEHmh",
        "outputId": "e64eca27-66c7-4deb-ad30-4d3b41db8bd5"
      },
      "outputs": [
        {
          "output_type": "error",
          "ename": "ModuleNotFoundError",
          "evalue": "No module named 'speech_recognition'",
          "traceback": [
            "\u001b[0;31m---------------------------------------------------------------------------\u001b[0m",
            "\u001b[0;31mModuleNotFoundError\u001b[0m                       Traceback (most recent call last)",
            "\u001b[0;32m<ipython-input-1-fd80e39836b2>\u001b[0m in \u001b[0;36m<cell line: 0>\u001b[0;34m()\u001b[0m\n\u001b[0;32m----> 1\u001b[0;31m \u001b[0;32mimport\u001b[0m \u001b[0mspeech_recognition\u001b[0m \u001b[0;32mas\u001b[0m \u001b[0msr\u001b[0m\u001b[0;34m\u001b[0m\u001b[0;34m\u001b[0m\u001b[0m\n\u001b[0m\u001b[1;32m      2\u001b[0m \u001b[0;32mimport\u001b[0m \u001b[0mpyttsx3\u001b[0m\u001b[0;34m\u001b[0m\u001b[0;34m\u001b[0m\u001b[0m\n\u001b[1;32m      3\u001b[0m \u001b[0;32mimport\u001b[0m \u001b[0mdatetime\u001b[0m\u001b[0;34m\u001b[0m\u001b[0;34m\u001b[0m\u001b[0m\n\u001b[1;32m      4\u001b[0m \u001b[0;32mimport\u001b[0m \u001b[0mwikipedia\u001b[0m\u001b[0;34m\u001b[0m\u001b[0;34m\u001b[0m\u001b[0m\n\u001b[1;32m      5\u001b[0m \u001b[0;32mimport\u001b[0m \u001b[0mpywhatkit\u001b[0m\u001b[0;34m\u001b[0m\u001b[0;34m\u001b[0m\u001b[0m\n",
            "\u001b[0;31mModuleNotFoundError\u001b[0m: No module named 'speech_recognition'",
            "",
            "\u001b[0;31m---------------------------------------------------------------------------\u001b[0;32m\nNOTE: If your import is failing due to a missing package, you can\nmanually install dependencies using either !pip or !apt.\n\nTo view examples of installing some common dependencies, click the\n\"Open Examples\" button below.\n\u001b[0;31m---------------------------------------------------------------------------\u001b[0m\n"
          ],
          "errorDetails": {
            "actions": [
              {
                "action": "open_url",
                "actionText": "Open Examples",
                "url": "/notebooks/snippets/importing_libraries.ipynb"
              }
            ]
          }
        }
      ],
      "source": [
        "import speech_recognition as sr\n",
        "import pyttsx3\n",
        "import datetime\n",
        "import wikipedia\n",
        "import pywhatkit\n",
        "\n",
        "# Initialize text-to-speech engine\n",
        "engine = pyttsx3.init()\n",
        "engine.setProperty(\"rate\", 150)  # Speed of speech\n",
        "engine.setProperty(\"volume\", 1)  # Volume level\n",
        "\n",
        "def speak(text):\n",
        "    \"\"\"Speak the given text\"\"\"\n",
        "    engine.say(text)\n",
        "    engine.runAndWait()\n",
        "\n",
        "def recognize_speech():\n",
        "    \"\"\"Recognize speech from the microphone\"\"\"\n",
        "    recognizer = sr.Recognizer()\n",
        "    with sr.Microphone() as source:\n",
        "        print(\"Listening...\")\n",
        "        recognizer.adjust_for_ambient_noise(source)\n",
        "        audio = recognizer.listen(source)\n",
        "\n",
        "    try:\n",
        "        command = recognizer.recognize_google(audio).lower()\n",
        "        print(f\"You said: {command}\")\n",
        "        return command\n",
        "    except sr.UnknownValueError:\n",
        "        speak(\"Sorry, I couldn't understand. Please repeat.\")\n",
        "        return \"\"\n",
        "    except sr.RequestError:\n",
        "        speak(\"Speech recognition service is unavailable.\")\n",
        "        return \"\"\n",
        "\n",
        "def process_command(command):\n",
        "    \"\"\"Process the given command\"\"\"\n",
        "    if \"hello\" in command:\n",
        "        speak(\"Hello! How can I assist you?\")\n",
        "\n",
        "    elif \"time\" in command:\n",
        "        now = datetime.datetime.now().strftime(\"%H:%M\")\n",
        "        speak(f\"The time is {now}\")\n",
        "\n",
        "    elif \"date\" in command:\n",
        "        today = datetime.datetime.today().strftime(\"%B %d, %Y\")\n",
        "        speak(f\"Today's date is {today}\")\n",
        "\n",
        "    elif \"search\" in command:\n",
        "        query = command.replace(\"search\", \"\").strip()\n",
        "        speak(f\"Searching Google for {query}\")\n",
        "        pywhatkit.search(query)\n",
        "\n",
        "    elif \"wikipedia\" in command:\n",
        "        query = command.replace(\"wikipedia\", \"\").strip()\n",
        "        speak(f\"Searching Wikipedia for {query}\")\n",
        "        try:\n",
        "            result = wikipedia.summary(query, sentences=2)\n",
        "            speak(result)\n",
        "        except wikipedia.exceptions.PageError:\n",
        "            speak(\"Sorry, I couldn't find anything on Wikipedia.\")\n",
        "\n",
        "    elif \"exit\" in command or \"stop\" in command:\n",
        "        speak(\"Goodbye!\")\n",
        "        exit()\n",
        "\n",
        "    else:\n",
        "        speak(\"I didn't understand that command.\")\n",
        "\n",
        "if __name__ == \"__main__\":\n",
        "    speak(\"Voice Assistant is now active. How can I help you?\")\n",
        "    while True:\n",
        "        user_command = recognize_speech()\n",
        "        process_command(user_command)"
      ]
    }
  ]
}